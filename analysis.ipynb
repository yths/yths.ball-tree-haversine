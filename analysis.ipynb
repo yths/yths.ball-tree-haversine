{
 "cells": [
  {
   "cell_type": "markdown",
   "id": "c70005fe-57e8-48e4-a642-148035121f90",
   "metadata": {},
   "source": [
    "# Performance Evaluation of a Ball Tree Using Haversine As a Distance Measure\n",
    "[This](https://youtu.be/tZDORTtAXmg) video addresses the problem of quickly finding people in close proximity. In the video an approximate distance measure is used and some form of space-partioning data structure was implemented. I was wondering if similar performance (for use in practical scenarios) could be achieved using the exact distance measure and traditional ball trees. As shown below, even without further optimization and on consumer hardware, the problem can be solved for the whole population of Earth."
   ]
  },
  {
   "cell_type": "code",
   "execution_count": 1,
   "id": "aad0f913-e003-4015-95e6-1219855779f4",
   "metadata": {},
   "outputs": [],
   "source": [
    "import timeit\n",
    "\n",
    "import numpy\n",
    "import pandas\n",
    "import sklearn.neighbors\n",
    "import seaborn"
   ]
  },
  {
   "cell_type": "code",
   "execution_count": 2,
   "id": "993ad5a9-032f-45ed-ad04-522a79da3570",
   "metadata": {},
   "outputs": [],
   "source": [
    "# from: https://stackoverflow.com/questions/38649501/labeling-boxplot-in-seaborn-with-median-value\n",
    "import matplotlib.pyplot as plt\n",
    "import matplotlib.patheffects as path_effects\n",
    "\n",
    "def add_median_labels(ax):\n",
    "    lines = ax.get_lines()\n",
    "    # determine number of lines per box (this varies with/without fliers)\n",
    "    boxes = [c for c in ax.get_children() if type(c).__name__ == 'PathPatch']\n",
    "    lines_per_box = int(len(lines) / len(boxes))\n",
    "    # iterate over median lines\n",
    "    for median in lines[4:len(lines):lines_per_box]:\n",
    "        # display median value at center of median line\n",
    "        x, y = (data.mean() for data in median.get_data())\n",
    "        # choose value depending on horizontal or vertical plot orientation\n",
    "        value = x if (median.get_xdata()[1]-median.get_xdata()[0]) == 0 else y\n",
    "        text = ax.text(x, y, f'{value:.6f}', ha='center', va='center',\n",
    "                       fontweight='bold', color='white')\n",
    "        # create median-colored border around white text for contrast\n",
    "        text.set_path_effects([\n",
    "            path_effects.Stroke(linewidth=3, foreground=median.get_color()),\n",
    "            path_effects.Normal(),\n",
    "        ])"
   ]
  },
  {
   "cell_type": "markdown",
   "id": "d70c53ad-ee0f-44ca-b629-5ab1818150f3",
   "metadata": {},
   "source": [
    "By uniformely sampling the surface of the unit sphere and projecting the coordinated on a sphere with approximate Earth radius, the location of n inhabitans of Earth are simulated."
   ]
  },
  {
   "cell_type": "code",
   "execution_count": 3,
   "id": "d749fcf5-1bba-451d-905c-8107ae0718ef",
   "metadata": {},
   "outputs": [],
   "source": [
    "def generate_samples(n):\n",
    "    samples = numpy.random.randn(3, n)\n",
    "    samples /= numpy.linalg.norm(samples, axis=0)\n",
    "    return samples"
   ]
  },
  {
   "cell_type": "code",
   "execution_count": 4,
   "id": "ae54696e-06b3-4c45-a5d1-bf75122e4e7a",
   "metadata": {},
   "outputs": [],
   "source": [
    "def generate_test_sets(sizes=[1_000, 100_000, 10_000_000]):\n",
    "    R = 6378 # equatorial radius of the Earth\n",
    "        \n",
    "    test_sets = dict()\n",
    "    for n in sizes:\n",
    "        x, y, z = generate_samples(n) * R\n",
    "        lat = numpy.arcsin(z / R)\n",
    "        lon = numpy.arctan2(y, x)\n",
    "        test_sets[n] = numpy.array(list(zip(lat, lon)))\n",
    "    return test_sets"
   ]
  },
  {
   "cell_type": "code",
   "execution_count": 5,
   "id": "83101a71-a523-41c1-8ba9-a75b82a71acb",
   "metadata": {},
   "outputs": [],
   "source": [
    "test_sets = generate_test_sets()"
   ]
  },
  {
   "cell_type": "code",
   "execution_count": 6,
   "id": "d62ff957-af9b-48a9-b351-6bf147313dc3",
   "metadata": {},
   "outputs": [],
   "source": [
    "initialization_durations = dict()\n",
    "for n in [1_000, 100_000, 10_000_000]:\n",
    "    initialization_durations[n] = timeit.repeat(\"sklearn.neighbors.BallTree(test_sets[\" + str(n) + \"], leaf_size=128, metric='haversine')\", globals=globals(), number=1, repeat=8)"
   ]
  },
  {
   "cell_type": "code",
   "execution_count": 7,
   "id": "765764be-f783-4b1e-9f1a-0e3d0fd55bae",
   "metadata": {},
   "outputs": [],
   "source": [
    "measurements = list()\n",
    "for n in initialization_durations:\n",
    "    for measurement in initialization_durations[n]:\n",
    "        measurements.append([n, measurement])\n",
    "measurements = pandas.DataFrame(measurements, columns=['set size', 'duration'])"
   ]
  },
  {
   "cell_type": "code",
   "execution_count": 8,
   "id": "7680b146-6f42-4fc8-8187-252355c164d6",
   "metadata": {},
   "outputs": [
    {
     "data": {
      "image/png": "[encoded data removed]",
      "text/plain": [
       "<Figure size 432x288 with 1 Axes>"
      ]
     },
     "metadata": {
      "needs_background": "light"
     },
     "output_type": "display_data"
    }
   ],
   "source": [
    "ax = seaborn.boxplot(x='set size', y='duration', data=measurements)\n",
    "add_median_labels(ax)\n",
    "ax = ax.set(ylabel='duration [s]')"
   ]
  },
  {
   "cell_type": "markdown",
   "id": "d2d0dcec-fb20-4ba9-af04-ede2b4afe4eb",
   "metadata": {},
   "source": [
    "It can be seen that the cost of constructing the tree grows with the time complexity $O(n \\log{n})$."
   ]
  },
  {
   "cell_type": "code",
   "execution_count": 9,
   "id": "94310c53-ab4c-451b-831a-58bcd268248f",
   "metadata": {},
   "outputs": [
    {
     "name": "stdout",
     "output_type": "stream",
     "text": [
      "   set size\tsimulated duration [s]\n",
      "       1000\t0.0006907755278982137\n",
      "     100000\t0.11512925464970229\n",
      "   10000000\t16.11809565095832\n",
      "10000000000\t23025.850929940458\n"
     ]
    }
   ],
   "source": [
    "c = 1/10000000\n",
    "print(str('set size').rjust(11), 'simulated duration [s]', sep='\\t')\n",
    "for n in [1_000, 100_000, 10_000_000, 10_000_000_000]:\n",
    "    print(str(n).rjust(11), c * n*numpy.log(n), sep='\\t')"
   ]
  },
  {
   "cell_type": "markdown",
   "id": "e7e8e1d6-9bce-4c29-a304-1bcfaf392c63",
   "metadata": {},
   "source": [
    "For building a tree containing the locations of all Earth inhabitants, a duration of 7 h is expected."
   ]
  },
  {
   "cell_type": "code",
   "execution_count": 10,
   "id": "ce0820f2-22f4-48f7-a755-3cb0bee19792",
   "metadata": {},
   "outputs": [],
   "source": [
    "trees = dict()\n",
    "for n in [1_000, 100_000, 10_000_000]:\n",
    "    trees[n] = sklearn.neighbors.BallTree(test_sets[n], leaf_size=128, metric='haversine')"
   ]
  },
  {
   "cell_type": "code",
   "execution_count": 11,
   "id": "32e61bbd-51b7-4ec7-a4b8-070788b1372c",
   "metadata": {},
   "outputs": [],
   "source": [
    "def query_random_point(tree):\n",
    "    query = generate_test_sets(sizes=[1])[1]\n",
    "    tree.query(query, k=32)"
   ]
  },
  {
   "cell_type": "code",
   "execution_count": 12,
   "id": "c9c49dc8-ef06-4d0c-8a80-30f7b4d36760",
   "metadata": {},
   "outputs": [],
   "source": [
    "query_durations = dict()\n",
    "for n in [1_000, 100_000, 10_000_000]:\n",
    "    query_durations[n] = timeit.repeat(\"query_random_point(trees[\" + str(n) + \"])\", globals=globals(), number=1, repeat=4096)"
   ]
  },
  {
   "cell_type": "code",
   "execution_count": 13,
   "id": "048ed0fb-9b1f-462e-b63a-e579b0265a25",
   "metadata": {},
   "outputs": [],
   "source": [
    "query_measurements = list()\n",
    "for n in query_durations:\n",
    "    for measurement in query_durations[n]:\n",
    "        query_measurements.append([n, measurement])\n",
    "query_measurements = pandas.DataFrame(query_measurements, columns=['set size', 'duration'])"
   ]
  },
  {
   "cell_type": "code",
   "execution_count": 14,
   "id": "2c46064e-e8af-43aa-b298-4df69b14e4c1",
   "metadata": {},
   "outputs": [
    {
     "data": {
      "image/png": "[encoded data removed]",
      "text/plain": [
       "<Figure size 432x288 with 1 Axes>"
      ]
     },
     "metadata": {
      "needs_background": "light"
     },
     "output_type": "display_data"
    }
   ],
   "source": [
    "ax = seaborn.boxplot(x='set size', y='duration', data=query_measurements)\n",
    "add_median_labels(ax)\n",
    "ax = ax.set(ylabel='duration [s]')"
   ]
  },
  {
   "cell_type": "markdown",
   "id": "c504f372-cf28-4a2a-887e-7de863c91bf0",
   "metadata": {},
   "source": [
    "It can be seen that the cost of querying for the n-nearest neighbors grows with time complexity $O(\\log{n})$."
   ]
  },
  {
   "cell_type": "code",
   "execution_count": 15,
   "id": "7ace35df-d6a5-4d58-870c-6a256408124f",
   "metadata": {},
   "outputs": [
    {
     "name": "stdout",
     "output_type": "stream",
     "text": [
      "   set size\tsimulated duration [s]\n",
      "       1000\t0.0000921\n",
      "     100000\t0.0001535\n",
      "   10000000\t0.0002149\n",
      "10000000000\t0.0003070\n"
     ]
    }
   ],
   "source": [
    "c = 1/75000\n",
    "print(str('set size').rjust(11), 'simulated duration [s]', sep='\\t')\n",
    "for n in [1_000, 100_000, 10_000_000, 10_000_000_000]:\n",
    "    print(str(n).rjust(11), \"{:.7f}\".format(c * numpy.log(n)), sep='\\t')"
   ]
  },
  {
   "cell_type": "markdown",
   "id": "793a85c4-549d-45b6-b1c1-5a1bffe46b94",
   "metadata": {},
   "source": [
    "Finding the closest n inhabitants of the Earth takes approximately 0.0003 s."
   ]
  }
 ],
 "metadata": {
  "kernelspec": {
   "display_name": "Python 3",
   "language": "python",
   "name": "python3"
  },
  "language_info": {
   "codemirror_mode": {
    "name": "ipython",
    "version": 3
   },
   "file_extension": ".py",
   "mimetype": "text/x-python",
   "name": "python",
   "nbconvert_exporter": "python",
   "pygments_lexer": "ipython3",
   "version": "3.9.4"
  }
 },
 "nbformat": 4,
 "nbformat_minor": 5
}
